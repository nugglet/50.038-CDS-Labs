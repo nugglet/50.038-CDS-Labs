{
 "cells": [
  {
   "cell_type": "markdown",
   "id": "dedicated-insight",
   "metadata": {},
   "source": [
    "# CDS Lab 4\n",
    "Victoria Yong 1004455"
   ]
  },
  {
   "cell_type": "code",
   "execution_count": 1,
   "id": "current-spending",
   "metadata": {},
   "outputs": [],
   "source": [
    "import random\n",
    "import pandas as pd\n",
    "import numpy as np\n",
    "import matplotlib.pyplot as plt\n",
    "from sklearn.model_selection import train_test_split\n",
    "from sklearn.metrics import mean_squared_error\n",
    "from sklearn.linear_model import LinearRegression\n",
    "from sklearn.pipeline import Pipeline\n",
    "from sklearn.feature_extraction.text import TfidfVectorizer\n",
    "from sklearn.feature_selection import SelectPercentile, f_regression, mutual_info_regression\n",
    "from sklearn.metrics import mean_squared_error\n",
    "from nltk.corpus import stopwords"
   ]
  },
  {
   "cell_type": "code",
   "execution_count": 2,
   "id": "independent-fisher",
   "metadata": {},
   "outputs": [],
   "source": [
    "data = pd.read_csv('data.csv', header=None)\n",
    "rawX = data.iloc[:, 0].to_numpy()\n",
    "y = data.iloc[:, 1].to_numpy()\n",
    "X = np.stack((np.ones(rawX.shape[0]), rawX), 1)\n",
    "\n",
    "# Using Linear Regression Formula\n",
    "def linearRegression(X, y):\n",
    "    return np.linalg.inv(X.T.dot(X)) @ X.T.dot(y)\n",
    "\n",
    "\n",
    "# Using Gradient Descent\n",
    "def batchGD(X, y, lr=1e-4, epochs=100, early_stopping=1e-4):\n",
    "    log_m, log_c = [], []\n",
    "    m, c = 0, 0\n",
    "    n = X.shape[0]\n",
    "    \n",
    "    for ep in range(epochs):\n",
    "        y_pred = m*X + c\n",
    "        m -= lr * -2/n * sum((y - y_pred) * X)\n",
    "        c -= lr * -2/n * sum(y - y_pred)\n",
    "        log_m.append(m)\n",
    "        log_c.append(c)\n",
    "        \n",
    "        # Stop when small updates to m and c\n",
    "        if ep > 2:\n",
    "            if (abs(log_m[ep - 1] - m) < early_stopping) and (abs(log_c[ep-1] - c) < early_stopping):\n",
    "                print(f'Ran for {ep} epochs, m = {m}, c = {c}\\n')\n",
    "                return m, c\n",
    "            \n",
    "    print(f'Ran for {epochs} epochs, m = {m}, c = {c}\\n')\n",
    "    return m, c\n",
    "    \n",
    "def plotGraph(predslr, predsgd):\n",
    "    plt.scatter(rawX, y, color='y')\n",
    "    plt.plot(rawX, predslr, color='r', label='Linear Regression')\n",
    "    plt.plot(rawX, predsgd, color='b', label='Batch Gradient Descent')\n",
    "    plt.legend()\n",
    "    plt.show()\n",
    "    "
   ]
  },
  {
   "cell_type": "code",
   "execution_count": 3,
   "id": "thirty-tunisia",
   "metadata": {},
   "outputs": [
    {
     "name": "stdout",
     "output_type": "stream",
     "text": [
      "Linear Regression\n",
      "\tTheta = [7.99102098 1.32243102]\n",
      "\n",
      "Ran for 13 epochs, m = 1.4788098170256598, c = 0.029907166987310226\n",
      "\n"
     ]
    },
    {
     "data": {
      "image/png": "[encoded data removed]",
      "text/plain": [
       "<Figure size 432x288 with 1 Axes>"
      ]
     },
     "metadata": {
      "needs_background": "light"
     },
     "output_type": "display_data"
    }
   ],
   "source": [
    "theta = linearRegression(X, y)\n",
    "print(f\"Linear Regression\\n\\tTheta = {theta}\\n\")\n",
    "\n",
    "m, c = batchGD(rawX, y)\n",
    "\n",
    "plotGraph(X.dot(theta), m*rawX+c)"
   ]
  },
  {
   "cell_type": "markdown",
   "id": "cleared-shaft",
   "metadata": {},
   "source": [
    "# Exercise 2"
   ]
  },
  {
   "cell_type": "code",
   "execution_count": 4,
   "id": "saved-looking",
   "metadata": {},
   "outputs": [
    {
     "data": {
      "text/html": [
       "<div>\n",
       "<style scoped>\n",
       "    .dataframe tbody tr th:only-of-type {\n",
       "        vertical-align: middle;\n",
       "    }\n",
       "\n",
       "    .dataframe tbody tr th {\n",
       "        vertical-align: top;\n",
       "    }\n",
       "\n",
       "    .dataframe thead th {\n",
       "        text-align: right;\n",
       "    }\n",
       "</style>\n",
       "<table border=\"1\" class=\"dataframe\">\n",
       "  <thead>\n",
       "    <tr style=\"text-align: right;\">\n",
       "      <th></th>\n",
       "      <th>docid</th>\n",
       "      <th>review</th>\n",
       "      <th>rating</th>\n",
       "    </tr>\n",
       "  </thead>\n",
       "  <tbody>\n",
       "    <tr>\n",
       "      <th>0</th>\n",
       "      <td>usa_illinois_chicago_the_talbott_hotel</td>\n",
       "      <td>\\tWonderful\\tI had a sore throat and the hotel...</td>\n",
       "      <td>4.672131</td>\n",
       "    </tr>\n",
       "    <tr>\n",
       "      <th>1</th>\n",
       "      <td>usa_illinois_chicago_sofitel_chicago_water_tower</td>\n",
       "      <td>Nov 20 2009 \\tDidn't want to check out...\\tPer...</td>\n",
       "      <td>4.601329</td>\n",
       "    </tr>\n",
       "    <tr>\n",
       "      <th>2</th>\n",
       "      <td>usa_illinois_chicago_trump_international_hotel...</td>\n",
       "      <td>\\tWOW!!\\tGreat hotel! Stayed there with my wif...</td>\n",
       "      <td>4.696296</td>\n",
       "    </tr>\n",
       "    <tr>\n",
       "      <th>3</th>\n",
       "      <td>usa_illinois_chicago_hampton_inn_majestic_chicago</td>\n",
       "      <td>\\tStaff Went Above \\tWhile waiting for our gue...</td>\n",
       "      <td>4.595455</td>\n",
       "    </tr>\n",
       "    <tr>\n",
       "      <th>4</th>\n",
       "      <td>usa_illinois_chicago_residence_inn_chicago_dow...</td>\n",
       "      <td>\\tWonderful Hotel Will Definately Stay Here Ag...</td>\n",
       "      <td>4.645000</td>\n",
       "    </tr>\n",
       "  </tbody>\n",
       "</table>\n",
       "</div>"
      ],
      "text/plain": [
       "                                               docid  \\\n",
       "0             usa_illinois_chicago_the_talbott_hotel   \n",
       "1   usa_illinois_chicago_sofitel_chicago_water_tower   \n",
       "2  usa_illinois_chicago_trump_international_hotel...   \n",
       "3  usa_illinois_chicago_hampton_inn_majestic_chicago   \n",
       "4  usa_illinois_chicago_residence_inn_chicago_dow...   \n",
       "\n",
       "                                              review    rating  \n",
       "0  \\tWonderful\\tI had a sore throat and the hotel...  4.672131  \n",
       "1  Nov 20 2009 \\tDidn't want to check out...\\tPer...  4.601329  \n",
       "2  \\tWOW!!\\tGreat hotel! Stayed there with my wif...  4.696296  \n",
       "3  \\tStaff Went Above \\tWhile waiting for our gue...  4.595455  \n",
       "4  \\tWonderful Hotel Will Definately Stay Here Ag...  4.645000  "
      ]
     },
     "execution_count": 4,
     "metadata": {},
     "output_type": "execute_result"
    }
   ],
   "source": [
    "df = pd.read_csv('chicago_hotel_reviews.csv', index_col=0)\n",
    "df = df[df.review != 'placeholder']\n",
    "df.head()"
   ]
  },
  {
   "cell_type": "markdown",
   "id": "phantom-encounter",
   "metadata": {},
   "source": [
    "## No Feature Selection"
   ]
  },
  {
   "cell_type": "code",
   "execution_count": 5,
   "id": "together-wedding",
   "metadata": {},
   "outputs": [
    {
     "name": "stdout",
     "output_type": "stream",
     "text": [
      "MSE of Linear Regression without Feature Selection on Training Data: 1.1658253702697428e-15\n",
      "\n",
      "MSE of Linear Regression without Feature Selection on Validation Data: 0.5302342305568485\n",
      "\n"
     ]
    }
   ],
   "source": [
    "vect = TfidfVectorizer(stop_words=stopwords.words('english'))\n",
    "vectReview = vect.fit_transform(df.review)\n",
    "linReg = LinearRegression()\n",
    "tX, vX, tY, vY = train_test_split(vectReview, df.rating, test_size=0.2)\n",
    "linReg = linReg.fit(tX, tY)\n",
    "vmse = mean_squared_error(linReg.predict(vX), vY)\n",
    "tmse = mean_squared_error(linReg.predict(tX), tY)\n",
    "print(f\"MSE of Linear Regression without Feature Selection on Training Data: {tmse}\\n\")\n",
    "print(f\"MSE of Linear Regression without Feature Selection on Validation Data: {vmse}\\n\")"
   ]
  },
  {
   "cell_type": "markdown",
   "id": "every-donna",
   "metadata": {},
   "source": [
    "## With Feature Selection"
   ]
  },
  {
   "cell_type": "code",
   "execution_count": 6,
   "id": "liable-delicious",
   "metadata": {},
   "outputs": [
    {
     "name": "stdout",
     "output_type": "stream",
     "text": [
      "MSE of Linear Regression with Percentile Selection Using f_regression on Training Data: 1.7593542616086052e-15\n",
      "\n",
      "MSE of Linear Regression with Percentile Selection Using f_regression on Validation Data: 1.267618257690545\n",
      "\n"
     ]
    }
   ],
   "source": [
    "# Using f regression\n",
    "new_review = SelectPercentile(f_regression , percentile=20).fit_transform(vectReview, df.rating)\n",
    "tX, vX, tY, vY = train_test_split(new_review, df.rating, test_size=0.2)\n",
    "reg = linReg.fit(tX, tY)\n",
    "vmse_select = mean_squared_error(reg.predict(vX), vY)\n",
    "tmse_select = mean_squared_error(reg.predict(tX), tY)\n",
    "print(f\"MSE of Linear Regression with Percentile Selection Using f_regression on Training Data: {tmse_select}\\n\")\n",
    "print(f\"MSE of Linear Regression with Percentile Selection Using f_regression on Validation Data: {vmse_select}\\n\")"
   ]
  },
  {
   "cell_type": "code",
   "execution_count": 7,
   "id": "suffering-impression",
   "metadata": {},
   "outputs": [
    {
     "name": "stdout",
     "output_type": "stream",
     "text": [
      "MSE of Linear Regression with Percentile Selection Using mutual_info_regression on Training Data: 4.566941947156453e-15\n",
      "\n",
      "MSE of Linear Regression with Percentile Selection Using mutual_info_regression on Validation Data: 0.5417283616095401\n",
      "\n"
     ]
    }
   ],
   "source": [
    "# Using mutual info regression\n",
    "new_review = SelectPercentile(mutual_info_regression , percentile=20).fit_transform(vectReview, df.rating)\n",
    "tX, vX, tY, vY = train_test_split(new_review, df.rating, test_size=0.2)\n",
    "reg = linReg.fit(tX, tY)\n",
    "vmse_select = mean_squared_error(reg.predict(vX), vY)\n",
    "tmse_select = mean_squared_error(reg.predict(tX), tY)\n",
    "print(f\"MSE of Linear Regression with Percentile Selection Using mutual_info_regression on Training Data: {tmse_select}\\n\")\n",
    "print(f\"MSE of Linear Regression with Percentile Selection Using mutual_info_regression on Validation Data: {vmse_select}\\n\")"
   ]
  }
 ],
 "metadata": {
  "kernelspec": {
   "display_name": "Python 3",
   "language": "python",
   "name": "python3"
  },
  "language_info": {
   "codemirror_mode": {
    "name": "ipython",
    "version": 3
   },
   "file_extension": ".py",
   "mimetype": "text/x-python",
   "name": "python",
   "nbconvert_exporter": "python",
   "pygments_lexer": "ipython3",
   "version": "3.9.5"
  }
 },
 "nbformat": 4,
 "nbformat_minor": 5
}
